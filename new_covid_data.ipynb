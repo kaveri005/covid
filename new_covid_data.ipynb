{
 "cells": [
  {
   "cell_type": "code",
   "execution_count": 1,
   "id": "exclusive-lunch",
   "metadata": {},
   "outputs": [],
   "source": [
    "import pandas as pd\n",
    "import seaborn as sns\n",
    "import matplotlib.pyplot as plt #importing libraries"
   ]
  },
  {
   "cell_type": "code",
   "execution_count": 4,
   "id": "working-palmer",
   "metadata": {},
   "outputs": [
    {
     "data": {
      "text/html": [
       "<div>\n",
       "<style scoped>\n",
       "    .dataframe tbody tr th:only-of-type {\n",
       "        vertical-align: middle;\n",
       "    }\n",
       "\n",
       "    .dataframe tbody tr th {\n",
       "        vertical-align: top;\n",
       "    }\n",
       "\n",
       "    .dataframe thead th {\n",
       "        text-align: right;\n",
       "    }\n",
       "</style>\n",
       "<table border=\"1\" class=\"dataframe\">\n",
       "  <thead>\n",
       "    <tr style=\"text-align: right;\">\n",
       "      <th></th>\n",
       "      <th>iso_code</th>\n",
       "      <th>continent</th>\n",
       "      <th>location</th>\n",
       "      <th>date</th>\n",
       "      <th>total_cases</th>\n",
       "      <th>new_cases</th>\n",
       "      <th>new_cases_smoothed</th>\n",
       "      <th>total_deaths</th>\n",
       "      <th>new_deaths</th>\n",
       "      <th>new_deaths_smoothed</th>\n",
       "      <th>...</th>\n",
       "      <th>gdp_per_capita</th>\n",
       "      <th>extreme_poverty</th>\n",
       "      <th>cardiovasc_death_rate</th>\n",
       "      <th>diabetes_prevalence</th>\n",
       "      <th>female_smokers</th>\n",
       "      <th>male_smokers</th>\n",
       "      <th>handwashing_facilities</th>\n",
       "      <th>hospital_beds_per_thousand</th>\n",
       "      <th>life_expectancy</th>\n",
       "      <th>human_development_index</th>\n",
       "    </tr>\n",
       "  </thead>\n",
       "  <tbody>\n",
       "    <tr>\n",
       "      <th>0</th>\n",
       "      <td>AFG</td>\n",
       "      <td>Asia</td>\n",
       "      <td>Afghanistan</td>\n",
       "      <td>24-02-2020</td>\n",
       "      <td>1.0</td>\n",
       "      <td>1.0</td>\n",
       "      <td>NaN</td>\n",
       "      <td>NaN</td>\n",
       "      <td>NaN</td>\n",
       "      <td>NaN</td>\n",
       "      <td>...</td>\n",
       "      <td>1803.987</td>\n",
       "      <td>NaN</td>\n",
       "      <td>597.029</td>\n",
       "      <td>9.59</td>\n",
       "      <td>NaN</td>\n",
       "      <td>NaN</td>\n",
       "      <td>37.746</td>\n",
       "      <td>0.5</td>\n",
       "      <td>64.83</td>\n",
       "      <td>0.511</td>\n",
       "    </tr>\n",
       "    <tr>\n",
       "      <th>1</th>\n",
       "      <td>AFG</td>\n",
       "      <td>Asia</td>\n",
       "      <td>Afghanistan</td>\n",
       "      <td>25-02-2020</td>\n",
       "      <td>1.0</td>\n",
       "      <td>0.0</td>\n",
       "      <td>NaN</td>\n",
       "      <td>NaN</td>\n",
       "      <td>NaN</td>\n",
       "      <td>NaN</td>\n",
       "      <td>...</td>\n",
       "      <td>1803.987</td>\n",
       "      <td>NaN</td>\n",
       "      <td>597.029</td>\n",
       "      <td>9.59</td>\n",
       "      <td>NaN</td>\n",
       "      <td>NaN</td>\n",
       "      <td>37.746</td>\n",
       "      <td>0.5</td>\n",
       "      <td>64.83</td>\n",
       "      <td>0.511</td>\n",
       "    </tr>\n",
       "    <tr>\n",
       "      <th>2</th>\n",
       "      <td>AFG</td>\n",
       "      <td>Asia</td>\n",
       "      <td>Afghanistan</td>\n",
       "      <td>26-02-2020</td>\n",
       "      <td>1.0</td>\n",
       "      <td>0.0</td>\n",
       "      <td>NaN</td>\n",
       "      <td>NaN</td>\n",
       "      <td>NaN</td>\n",
       "      <td>NaN</td>\n",
       "      <td>...</td>\n",
       "      <td>1803.987</td>\n",
       "      <td>NaN</td>\n",
       "      <td>597.029</td>\n",
       "      <td>9.59</td>\n",
       "      <td>NaN</td>\n",
       "      <td>NaN</td>\n",
       "      <td>37.746</td>\n",
       "      <td>0.5</td>\n",
       "      <td>64.83</td>\n",
       "      <td>0.511</td>\n",
       "    </tr>\n",
       "    <tr>\n",
       "      <th>3</th>\n",
       "      <td>AFG</td>\n",
       "      <td>Asia</td>\n",
       "      <td>Afghanistan</td>\n",
       "      <td>27-02-2020</td>\n",
       "      <td>1.0</td>\n",
       "      <td>0.0</td>\n",
       "      <td>NaN</td>\n",
       "      <td>NaN</td>\n",
       "      <td>NaN</td>\n",
       "      <td>NaN</td>\n",
       "      <td>...</td>\n",
       "      <td>1803.987</td>\n",
       "      <td>NaN</td>\n",
       "      <td>597.029</td>\n",
       "      <td>9.59</td>\n",
       "      <td>NaN</td>\n",
       "      <td>NaN</td>\n",
       "      <td>37.746</td>\n",
       "      <td>0.5</td>\n",
       "      <td>64.83</td>\n",
       "      <td>0.511</td>\n",
       "    </tr>\n",
       "    <tr>\n",
       "      <th>4</th>\n",
       "      <td>AFG</td>\n",
       "      <td>Asia</td>\n",
       "      <td>Afghanistan</td>\n",
       "      <td>28-02-2020</td>\n",
       "      <td>1.0</td>\n",
       "      <td>0.0</td>\n",
       "      <td>NaN</td>\n",
       "      <td>NaN</td>\n",
       "      <td>NaN</td>\n",
       "      <td>NaN</td>\n",
       "      <td>...</td>\n",
       "      <td>1803.987</td>\n",
       "      <td>NaN</td>\n",
       "      <td>597.029</td>\n",
       "      <td>9.59</td>\n",
       "      <td>NaN</td>\n",
       "      <td>NaN</td>\n",
       "      <td>37.746</td>\n",
       "      <td>0.5</td>\n",
       "      <td>64.83</td>\n",
       "      <td>0.511</td>\n",
       "    </tr>\n",
       "  </tbody>\n",
       "</table>\n",
       "<p>5 rows × 59 columns</p>\n",
       "</div>"
      ],
      "text/plain": [
       "  iso_code continent     location        date  total_cases  new_cases  \\\n",
       "0      AFG      Asia  Afghanistan  24-02-2020          1.0        1.0   \n",
       "1      AFG      Asia  Afghanistan  25-02-2020          1.0        0.0   \n",
       "2      AFG      Asia  Afghanistan  26-02-2020          1.0        0.0   \n",
       "3      AFG      Asia  Afghanistan  27-02-2020          1.0        0.0   \n",
       "4      AFG      Asia  Afghanistan  28-02-2020          1.0        0.0   \n",
       "\n",
       "   new_cases_smoothed  total_deaths  new_deaths  new_deaths_smoothed  ...  \\\n",
       "0                 NaN           NaN         NaN                  NaN  ...   \n",
       "1                 NaN           NaN         NaN                  NaN  ...   \n",
       "2                 NaN           NaN         NaN                  NaN  ...   \n",
       "3                 NaN           NaN         NaN                  NaN  ...   \n",
       "4                 NaN           NaN         NaN                  NaN  ...   \n",
       "\n",
       "   gdp_per_capita  extreme_poverty  cardiovasc_death_rate  \\\n",
       "0        1803.987              NaN                597.029   \n",
       "1        1803.987              NaN                597.029   \n",
       "2        1803.987              NaN                597.029   \n",
       "3        1803.987              NaN                597.029   \n",
       "4        1803.987              NaN                597.029   \n",
       "\n",
       "   diabetes_prevalence  female_smokers  male_smokers  handwashing_facilities  \\\n",
       "0                 9.59             NaN           NaN                  37.746   \n",
       "1                 9.59             NaN           NaN                  37.746   \n",
       "2                 9.59             NaN           NaN                  37.746   \n",
       "3                 9.59             NaN           NaN                  37.746   \n",
       "4                 9.59             NaN           NaN                  37.746   \n",
       "\n",
       "   hospital_beds_per_thousand  life_expectancy  human_development_index  \n",
       "0                         0.5            64.83                    0.511  \n",
       "1                         0.5            64.83                    0.511  \n",
       "2                         0.5            64.83                    0.511  \n",
       "3                         0.5            64.83                    0.511  \n",
       "4                         0.5            64.83                    0.511  \n",
       "\n",
       "[5 rows x 59 columns]"
      ]
     },
     "execution_count": 4,
     "metadata": {},
     "output_type": "execute_result"
    }
   ],
   "source": [
    "covid=pd.read_csv(\"linear-comprehensive-covid-data.csv\")\n",
    "covid.head()\n",
    "# reading the data"
   ]
  },
  {
   "cell_type": "code",
   "execution_count": 5,
   "id": "according-collaboration",
   "metadata": {},
   "outputs": [
    {
     "data": {
      "text/plain": [
       "(74866, 59)"
      ]
     },
     "execution_count": 5,
     "metadata": {},
     "output_type": "execute_result"
    }
   ],
   "source": [
    "covid.shape #finding the rows and columns in data"
   ]
  },
  {
   "cell_type": "code",
   "execution_count": 6,
   "id": "renewable-clear",
   "metadata": {},
   "outputs": [
    {
     "data": {
      "text/plain": [
       "Index(['iso_code', 'continent', 'location', 'date', 'total_cases', 'new_cases',\n",
       "       'new_cases_smoothed', 'total_deaths', 'new_deaths',\n",
       "       'new_deaths_smoothed', 'total_cases_per_million',\n",
       "       'new_cases_per_million', 'new_cases_smoothed_per_million',\n",
       "       'total_deaths_per_million', 'new_deaths_per_million',\n",
       "       'new_deaths_smoothed_per_million', 'reproduction_rate', 'icu_patients',\n",
       "       'icu_patients_per_million', 'hosp_patients',\n",
       "       'hosp_patients_per_million', 'weekly_icu_admissions',\n",
       "       'weekly_icu_admissions_per_million', 'weekly_hosp_admissions',\n",
       "       'weekly_hosp_admissions_per_million', 'new_tests', 'total_tests',\n",
       "       'total_tests_per_thousand', 'new_tests_per_thousand',\n",
       "       'new_tests_smoothed', 'new_tests_smoothed_per_thousand',\n",
       "       'positive_rate', 'tests_per_case', 'tests_units', 'total_vaccinations',\n",
       "       'people_vaccinated', 'people_fully_vaccinated', 'new_vaccinations',\n",
       "       'new_vaccinations_smoothed', 'total_vaccinations_per_hundred',\n",
       "       'people_vaccinated_per_hundred', 'people_fully_vaccinated_per_hundred',\n",
       "       'new_vaccinations_smoothed_per_million', 'stringency_index',\n",
       "       'population', 'population_density', 'median_age', 'aged_65_older',\n",
       "       'aged_70_older', 'gdp_per_capita', 'extreme_poverty',\n",
       "       'cardiovasc_death_rate', 'diabetes_prevalence', 'female_smokers',\n",
       "       'male_smokers', 'handwashing_facilities', 'hospital_beds_per_thousand',\n",
       "       'life_expectancy', 'human_development_index'],\n",
       "      dtype='object')"
      ]
     },
     "execution_count": 6,
     "metadata": {},
     "output_type": "execute_result"
    }
   ],
   "source": [
    "covid.columns #displaying the column names in the data"
   ]
  },
  {
   "cell_type": "code",
   "execution_count": 7,
   "id": "frozen-calendar",
   "metadata": {},
   "outputs": [
    {
     "name": "stdout",
     "output_type": "stream",
     "text": [
      "<class 'pandas.core.frame.DataFrame'>\n",
      "RangeIndex: 74866 entries, 0 to 74865\n",
      "Data columns (total 59 columns):\n",
      " #   Column                                 Non-Null Count  Dtype  \n",
      "---  ------                                 --------------  -----  \n",
      " 0   iso_code                               74866 non-null  object \n",
      " 1   continent                              71169 non-null  object \n",
      " 2   location                               74866 non-null  object \n",
      " 3   date                                   74866 non-null  object \n",
      " 4   total_cases                            73719 non-null  float64\n",
      " 5   new_cases                              73717 non-null  float64\n",
      " 6   new_cases_smoothed                     72716 non-null  float64\n",
      " 7   total_deaths                           64490 non-null  float64\n",
      " 8   new_deaths                             64648 non-null  float64\n",
      " 9   new_deaths_smoothed                    72716 non-null  float64\n",
      " 10  total_cases_per_million                73317 non-null  float64\n",
      " 11  new_cases_per_million                  73315 non-null  float64\n",
      " 12  new_cases_smoothed_per_million         72319 non-null  float64\n",
      " 13  total_deaths_per_million               64101 non-null  float64\n",
      " 14  new_deaths_per_million                 64259 non-null  float64\n",
      " 15  new_deaths_smoothed_per_million        72319 non-null  float64\n",
      " 16  reproduction_rate                      60388 non-null  float64\n",
      " 17  icu_patients                           7759 non-null   float64\n",
      " 18  icu_patients_per_million               7759 non-null   float64\n",
      " 19  hosp_patients                          9337 non-null   float64\n",
      " 20  hosp_patients_per_million              9337 non-null   float64\n",
      " 21  weekly_icu_admissions                  683 non-null    float64\n",
      " 22  weekly_icu_admissions_per_million      683 non-null    float64\n",
      " 23  weekly_hosp_admissions                 1261 non-null   float64\n",
      " 24  weekly_hosp_admissions_per_million     1261 non-null   float64\n",
      " 25  new_tests                              34159 non-null  float64\n",
      " 26  total_tests                            33928 non-null  float64\n",
      " 27  total_tests_per_thousand               33928 non-null  float64\n",
      " 28  new_tests_per_thousand                 34159 non-null  float64\n",
      " 29  new_tests_smoothed                     38987 non-null  float64\n",
      " 30  new_tests_smoothed_per_thousand        38987 non-null  float64\n",
      " 31  positive_rate                          37720 non-null  float64\n",
      " 32  tests_per_case                         37141 non-null  float64\n",
      " 33  tests_units                            40326 non-null  object \n",
      " 34  total_vaccinations                     3963 non-null   float64\n",
      " 35  people_vaccinated                      3516 non-null   float64\n",
      " 36  people_fully_vaccinated                2333 non-null   float64\n",
      " 37  new_vaccinations                       3350 non-null   float64\n",
      " 38  new_vaccinations_smoothed              5939 non-null   float64\n",
      " 39  total_vaccinations_per_hundred         3963 non-null   float64\n",
      " 40  people_vaccinated_per_hundred          3516 non-null   float64\n",
      " 41  people_fully_vaccinated_per_hundred    2333 non-null   float64\n",
      " 42  new_vaccinations_smoothed_per_million  5939 non-null   float64\n",
      " 43  stringency_index                       64056 non-null  float64\n",
      " 44  population                             74455 non-null  float64\n",
      " 45  population_density                     69940 non-null  float64\n",
      " 46  median_age                             67972 non-null  float64\n",
      " 47  aged_65_older                          67190 non-null  float64\n",
      " 48  aged_70_older                          67589 non-null  float64\n",
      " 49  gdp_per_capita                         68194 non-null  float64\n",
      " 50  extreme_poverty                        46529 non-null  float64\n",
      " 51  cardiovasc_death_rate                  68812 non-null  float64\n",
      " 52  diabetes_prevalence                    69694 non-null  float64\n",
      " 53  female_smokers                         54078 non-null  float64\n",
      " 54  male_smokers                           53335 non-null  float64\n",
      " 55  handwashing_facilities                 34542 non-null  float64\n",
      " 56  hospital_beds_per_thousand             62969 non-null  float64\n",
      " 57  life_expectancy                        71130 non-null  float64\n",
      " 58  human_development_index                68755 non-null  float64\n",
      "dtypes: float64(54), object(5)\n",
      "memory usage: 33.7+ MB\n"
     ]
    }
   ],
   "source": [
    "covid.info() #getting the information about the columns"
   ]
  },
  {
   "cell_type": "code",
   "execution_count": 8,
   "id": "prerequisite-james",
   "metadata": {},
   "outputs": [
    {
     "data": {
      "text/plain": [
       "Mexico              439\n",
       "Argentina           439\n",
       "Thailand            436\n",
       "Taiwan              424\n",
       "South Korea         419\n",
       "                   ... \n",
       "Anguilla             23\n",
       "Montserrat           16\n",
       "Falkland Islands     16\n",
       "Northern Cyprus       9\n",
       "Saint Helena          1\n",
       "Name: location, Length: 215, dtype: int64"
      ]
     },
     "execution_count": 8,
     "metadata": {},
     "output_type": "execute_result"
    }
   ],
   "source": [
    "covid[\"location\"].value_counts() # location value count"
   ]
  },
  {
   "cell_type": "code",
   "execution_count": 9,
   "id": "radio-logging",
   "metadata": {},
   "outputs": [
    {
     "data": {
      "text/plain": [
       "iso_code                                 False\n",
       "continent                                 True\n",
       "location                                 False\n",
       "date                                     False\n",
       "total_cases                               True\n",
       "new_cases                                 True\n",
       "new_cases_smoothed                        True\n",
       "total_deaths                              True\n",
       "new_deaths                                True\n",
       "new_deaths_smoothed                       True\n",
       "total_cases_per_million                   True\n",
       "new_cases_per_million                     True\n",
       "new_cases_smoothed_per_million            True\n",
       "total_deaths_per_million                  True\n",
       "new_deaths_per_million                    True\n",
       "new_deaths_smoothed_per_million           True\n",
       "reproduction_rate                         True\n",
       "icu_patients                              True\n",
       "icu_patients_per_million                  True\n",
       "hosp_patients                             True\n",
       "hosp_patients_per_million                 True\n",
       "weekly_icu_admissions                     True\n",
       "weekly_icu_admissions_per_million         True\n",
       "weekly_hosp_admissions                    True\n",
       "weekly_hosp_admissions_per_million        True\n",
       "new_tests                                 True\n",
       "total_tests                               True\n",
       "total_tests_per_thousand                  True\n",
       "new_tests_per_thousand                    True\n",
       "new_tests_smoothed                        True\n",
       "new_tests_smoothed_per_thousand           True\n",
       "positive_rate                             True\n",
       "tests_per_case                            True\n",
       "tests_units                               True\n",
       "total_vaccinations                        True\n",
       "people_vaccinated                         True\n",
       "people_fully_vaccinated                   True\n",
       "new_vaccinations                          True\n",
       "new_vaccinations_smoothed                 True\n",
       "total_vaccinations_per_hundred            True\n",
       "people_vaccinated_per_hundred             True\n",
       "people_fully_vaccinated_per_hundred       True\n",
       "new_vaccinations_smoothed_per_million     True\n",
       "stringency_index                          True\n",
       "population                                True\n",
       "population_density                        True\n",
       "median_age                                True\n",
       "aged_65_older                             True\n",
       "aged_70_older                             True\n",
       "gdp_per_capita                            True\n",
       "extreme_poverty                           True\n",
       "cardiovasc_death_rate                     True\n",
       "diabetes_prevalence                       True\n",
       "female_smokers                            True\n",
       "male_smokers                              True\n",
       "handwashing_facilities                    True\n",
       "hospital_beds_per_thousand                True\n",
       "life_expectancy                           True\n",
       "human_development_index                   True\n",
       "dtype: bool"
      ]
     },
     "execution_count": 9,
     "metadata": {},
     "output_type": "execute_result"
    }
   ],
   "source": [
    "covid.isna().any() # finding the null values"
   ]
  },
  {
   "cell_type": "code",
   "execution_count": 10,
   "id": "instant-thriller",
   "metadata": {},
   "outputs": [
    {
     "data": {
      "text/plain": [
       "iso_code                                     0\n",
       "continent                                 3697\n",
       "location                                     0\n",
       "date                                         0\n",
       "total_cases                               1147\n",
       "new_cases                                 1149\n",
       "new_cases_smoothed                        2150\n",
       "total_deaths                             10376\n",
       "new_deaths                               10218\n",
       "new_deaths_smoothed                       2150\n",
       "total_cases_per_million                   1549\n",
       "new_cases_per_million                     1551\n",
       "new_cases_smoothed_per_million            2547\n",
       "total_deaths_per_million                 10765\n",
       "new_deaths_per_million                   10607\n",
       "new_deaths_smoothed_per_million           2547\n",
       "reproduction_rate                        14478\n",
       "icu_patients                             67107\n",
       "icu_patients_per_million                 67107\n",
       "hosp_patients                            65529\n",
       "hosp_patients_per_million                65529\n",
       "weekly_icu_admissions                    74183\n",
       "weekly_icu_admissions_per_million        74183\n",
       "weekly_hosp_admissions                   73605\n",
       "weekly_hosp_admissions_per_million       73605\n",
       "new_tests                                40707\n",
       "total_tests                              40938\n",
       "total_tests_per_thousand                 40938\n",
       "new_tests_per_thousand                   40707\n",
       "new_tests_smoothed                       35879\n",
       "new_tests_smoothed_per_thousand          35879\n",
       "positive_rate                            37146\n",
       "tests_per_case                           37725\n",
       "tests_units                              34540\n",
       "total_vaccinations                       70903\n",
       "people_vaccinated                        71350\n",
       "people_fully_vaccinated                  72533\n",
       "new_vaccinations                         71516\n",
       "new_vaccinations_smoothed                68927\n",
       "total_vaccinations_per_hundred           70903\n",
       "people_vaccinated_per_hundred            71350\n",
       "people_fully_vaccinated_per_hundred      72533\n",
       "new_vaccinations_smoothed_per_million    68927\n",
       "stringency_index                         10810\n",
       "population                                 411\n",
       "population_density                        4926\n",
       "median_age                                6894\n",
       "aged_65_older                             7676\n",
       "aged_70_older                             7277\n",
       "gdp_per_capita                            6672\n",
       "extreme_poverty                          28337\n",
       "cardiovasc_death_rate                     6054\n",
       "diabetes_prevalence                       5172\n",
       "female_smokers                           20788\n",
       "male_smokers                             21531\n",
       "handwashing_facilities                   40324\n",
       "hospital_beds_per_thousand               11897\n",
       "life_expectancy                           3736\n",
       "human_development_index                   6111\n",
       "dtype: int64"
      ]
     },
     "execution_count": 10,
     "metadata": {},
     "output_type": "execute_result"
    }
   ],
   "source": [
    "covid.isna().sum() # finding the sum of null values in each columns"
   ]
  },
  {
   "cell_type": "code",
   "execution_count": 11,
   "id": "complicated-stevens",
   "metadata": {},
   "outputs": [],
   "source": [
    "covid=covid.reindex(sorted(covid.columns), axis=1) #sorting the columns"
   ]
  },
  {
   "cell_type": "code",
   "execution_count": 12,
   "id": "presidential-tracker",
   "metadata": {},
   "outputs": [
    {
     "name": "stdout",
     "output_type": "stream",
     "text": [
      "<class 'pandas.core.frame.DataFrame'>\n",
      "RangeIndex: 74866 entries, 0 to 74865\n",
      "Data columns (total 59 columns):\n",
      " #   Column                                 Non-Null Count  Dtype  \n",
      "---  ------                                 --------------  -----  \n",
      " 0   aged_65_older                          67190 non-null  float64\n",
      " 1   aged_70_older                          67589 non-null  float64\n",
      " 2   cardiovasc_death_rate                  68812 non-null  float64\n",
      " 3   continent                              71169 non-null  object \n",
      " 4   date                                   74866 non-null  object \n",
      " 5   diabetes_prevalence                    69694 non-null  float64\n",
      " 6   extreme_poverty                        46529 non-null  float64\n",
      " 7   female_smokers                         54078 non-null  float64\n",
      " 8   gdp_per_capita                         68194 non-null  float64\n",
      " 9   handwashing_facilities                 34542 non-null  float64\n",
      " 10  hosp_patients                          9337 non-null   float64\n",
      " 11  hosp_patients_per_million              9337 non-null   float64\n",
      " 12  hospital_beds_per_thousand             62969 non-null  float64\n",
      " 13  human_development_index                68755 non-null  float64\n",
      " 14  icu_patients                           7759 non-null   float64\n",
      " 15  icu_patients_per_million               7759 non-null   float64\n",
      " 16  iso_code                               74866 non-null  object \n",
      " 17  life_expectancy                        71130 non-null  float64\n",
      " 18  location                               74866 non-null  object \n",
      " 19  male_smokers                           53335 non-null  float64\n",
      " 20  median_age                             67972 non-null  float64\n",
      " 21  new_cases                              73717 non-null  float64\n",
      " 22  new_cases_per_million                  73315 non-null  float64\n",
      " 23  new_cases_smoothed                     72716 non-null  float64\n",
      " 24  new_cases_smoothed_per_million         72319 non-null  float64\n",
      " 25  new_deaths                             64648 non-null  float64\n",
      " 26  new_deaths_per_million                 64259 non-null  float64\n",
      " 27  new_deaths_smoothed                    72716 non-null  float64\n",
      " 28  new_deaths_smoothed_per_million        72319 non-null  float64\n",
      " 29  new_tests                              34159 non-null  float64\n",
      " 30  new_tests_per_thousand                 34159 non-null  float64\n",
      " 31  new_tests_smoothed                     38987 non-null  float64\n",
      " 32  new_tests_smoothed_per_thousand        38987 non-null  float64\n",
      " 33  new_vaccinations                       3350 non-null   float64\n",
      " 34  new_vaccinations_smoothed              5939 non-null   float64\n",
      " 35  new_vaccinations_smoothed_per_million  5939 non-null   float64\n",
      " 36  people_fully_vaccinated                2333 non-null   float64\n",
      " 37  people_fully_vaccinated_per_hundred    2333 non-null   float64\n",
      " 38  people_vaccinated                      3516 non-null   float64\n",
      " 39  people_vaccinated_per_hundred          3516 non-null   float64\n",
      " 40  population                             74455 non-null  float64\n",
      " 41  population_density                     69940 non-null  float64\n",
      " 42  positive_rate                          37720 non-null  float64\n",
      " 43  reproduction_rate                      60388 non-null  float64\n",
      " 44  stringency_index                       64056 non-null  float64\n",
      " 45  tests_per_case                         37141 non-null  float64\n",
      " 46  tests_units                            40326 non-null  object \n",
      " 47  total_cases                            73719 non-null  float64\n",
      " 48  total_cases_per_million                73317 non-null  float64\n",
      " 49  total_deaths                           64490 non-null  float64\n",
      " 50  total_deaths_per_million               64101 non-null  float64\n",
      " 51  total_tests                            33928 non-null  float64\n",
      " 52  total_tests_per_thousand               33928 non-null  float64\n",
      " 53  total_vaccinations                     3963 non-null   float64\n",
      " 54  total_vaccinations_per_hundred         3963 non-null   float64\n",
      " 55  weekly_hosp_admissions                 1261 non-null   float64\n",
      " 56  weekly_hosp_admissions_per_million     1261 non-null   float64\n",
      " 57  weekly_icu_admissions                  683 non-null    float64\n",
      " 58  weekly_icu_admissions_per_million      683 non-null    float64\n",
      "dtypes: float64(54), object(5)\n",
      "memory usage: 33.7+ MB\n"
     ]
    }
   ],
   "source": [
    "covid.info()# finding the columns whether it i s sorted or not"
   ]
  },
  {
   "cell_type": "code",
   "execution_count": 13,
   "id": "graphic-hospital",
   "metadata": {},
   "outputs": [],
   "source": [
    "covid.drop(['icu_patients','icu_patients_per_million','hosp_patients','hosp_patients_per_million','weekly_icu_admissions','weekly_icu_admissions_per_million','weekly_hosp_admissions','weekly_hosp_admissions_per_million','new_tests','total_tests','total_tests_per_thousand','new_tests_per_thousand','new_tests_smoothed','new_tests_smoothed_per_thousand','positive_rate','tests_per_case','tests_units','total_vaccinations','people_vaccinated','people_fully_vaccinated','new_vaccinations','new_vaccinations_smoothed','total_vaccinations_per_hundred','people_vaccinated_per_hundred','people_fully_vaccinated_per_hundred','new_vaccinations_smoothed_per_million'\n",
    "           ] ,axis=1,inplace=True)#removing unwanted data"
   ]
  },
  {
   "cell_type": "code",
   "execution_count": 14,
   "id": "strategic-paper",
   "metadata": {},
   "outputs": [
    {
     "name": "stdout",
     "output_type": "stream",
     "text": [
      "<class 'pandas.core.frame.DataFrame'>\n",
      "RangeIndex: 74866 entries, 0 to 74865\n",
      "Data columns (total 33 columns):\n",
      " #   Column                           Non-Null Count  Dtype  \n",
      "---  ------                           --------------  -----  \n",
      " 0   aged_65_older                    67190 non-null  float64\n",
      " 1   aged_70_older                    67589 non-null  float64\n",
      " 2   cardiovasc_death_rate            68812 non-null  float64\n",
      " 3   continent                        71169 non-null  object \n",
      " 4   date                             74866 non-null  object \n",
      " 5   diabetes_prevalence              69694 non-null  float64\n",
      " 6   extreme_poverty                  46529 non-null  float64\n",
      " 7   female_smokers                   54078 non-null  float64\n",
      " 8   gdp_per_capita                   68194 non-null  float64\n",
      " 9   handwashing_facilities           34542 non-null  float64\n",
      " 10  hospital_beds_per_thousand       62969 non-null  float64\n",
      " 11  human_development_index          68755 non-null  float64\n",
      " 12  iso_code                         74866 non-null  object \n",
      " 13  life_expectancy                  71130 non-null  float64\n",
      " 14  location                         74866 non-null  object \n",
      " 15  male_smokers                     53335 non-null  float64\n",
      " 16  median_age                       67972 non-null  float64\n",
      " 17  new_cases                        73717 non-null  float64\n",
      " 18  new_cases_per_million            73315 non-null  float64\n",
      " 19  new_cases_smoothed               72716 non-null  float64\n",
      " 20  new_cases_smoothed_per_million   72319 non-null  float64\n",
      " 21  new_deaths                       64648 non-null  float64\n",
      " 22  new_deaths_per_million           64259 non-null  float64\n",
      " 23  new_deaths_smoothed              72716 non-null  float64\n",
      " 24  new_deaths_smoothed_per_million  72319 non-null  float64\n",
      " 25  population                       74455 non-null  float64\n",
      " 26  population_density               69940 non-null  float64\n",
      " 27  reproduction_rate                60388 non-null  float64\n",
      " 28  stringency_index                 64056 non-null  float64\n",
      " 29  total_cases                      73719 non-null  float64\n",
      " 30  total_cases_per_million          73317 non-null  float64\n",
      " 31  total_deaths                     64490 non-null  float64\n",
      " 32  total_deaths_per_million         64101 non-null  float64\n",
      "dtypes: float64(29), object(4)\n",
      "memory usage: 18.8+ MB\n"
     ]
    }
   ],
   "source": [
    "covid.info() #finding the whether the unwanted is removed or not"
   ]
  },
  {
   "cell_type": "code",
   "execution_count": 15,
   "id": "hundred-oliver",
   "metadata": {},
   "outputs": [
    {
     "name": "stdout",
     "output_type": "stream",
     "text": [
      "33\n"
     ]
    }
   ],
   "source": [
    "print(len(covid.columns))#length of columns"
   ]
  },
  {
   "cell_type": "code",
   "execution_count": 16,
   "id": "white-selling",
   "metadata": {},
   "outputs": [],
   "source": [
    "Slovakia_case=covid[covid[\"location\"]==\"Slovakia\"]#retreving the slovakia data"
   ]
  },
  {
   "cell_type": "code",
   "execution_count": 17,
   "id": "compressed-proposition",
   "metadata": {},
   "outputs": [
    {
     "data": {
      "text/html": [
       "<div>\n",
       "<style scoped>\n",
       "    .dataframe tbody tr th:only-of-type {\n",
       "        vertical-align: middle;\n",
       "    }\n",
       "\n",
       "    .dataframe tbody tr th {\n",
       "        vertical-align: top;\n",
       "    }\n",
       "\n",
       "    .dataframe thead th {\n",
       "        text-align: right;\n",
       "    }\n",
       "</style>\n",
       "<table border=\"1\" class=\"dataframe\">\n",
       "  <thead>\n",
       "    <tr style=\"text-align: right;\">\n",
       "      <th></th>\n",
       "      <th>aged_65_older</th>\n",
       "      <th>aged_70_older</th>\n",
       "      <th>cardiovasc_death_rate</th>\n",
       "      <th>continent</th>\n",
       "      <th>date</th>\n",
       "      <th>diabetes_prevalence</th>\n",
       "      <th>extreme_poverty</th>\n",
       "      <th>female_smokers</th>\n",
       "      <th>gdp_per_capita</th>\n",
       "      <th>handwashing_facilities</th>\n",
       "      <th>...</th>\n",
       "      <th>new_deaths_smoothed</th>\n",
       "      <th>new_deaths_smoothed_per_million</th>\n",
       "      <th>population</th>\n",
       "      <th>population_density</th>\n",
       "      <th>reproduction_rate</th>\n",
       "      <th>stringency_index</th>\n",
       "      <th>total_cases</th>\n",
       "      <th>total_cases_per_million</th>\n",
       "      <th>total_deaths</th>\n",
       "      <th>total_deaths_per_million</th>\n",
       "    </tr>\n",
       "  </thead>\n",
       "  <tbody>\n",
       "    <tr>\n",
       "      <th>60393</th>\n",
       "      <td>15.07</td>\n",
       "      <td>9.167</td>\n",
       "      <td>287.959</td>\n",
       "      <td>Europe</td>\n",
       "      <td>06-03-2020</td>\n",
       "      <td>7.29</td>\n",
       "      <td>0.7</td>\n",
       "      <td>23.1</td>\n",
       "      <td>30155.152</td>\n",
       "      <td>NaN</td>\n",
       "      <td>...</td>\n",
       "      <td>NaN</td>\n",
       "      <td>NaN</td>\n",
       "      <td>5459643.0</td>\n",
       "      <td>113.128</td>\n",
       "      <td>NaN</td>\n",
       "      <td>16.67</td>\n",
       "      <td>1.0</td>\n",
       "      <td>0.183</td>\n",
       "      <td>NaN</td>\n",
       "      <td>NaN</td>\n",
       "    </tr>\n",
       "    <tr>\n",
       "      <th>60394</th>\n",
       "      <td>15.07</td>\n",
       "      <td>9.167</td>\n",
       "      <td>287.959</td>\n",
       "      <td>Europe</td>\n",
       "      <td>07-03-2020</td>\n",
       "      <td>7.29</td>\n",
       "      <td>0.7</td>\n",
       "      <td>23.1</td>\n",
       "      <td>30155.152</td>\n",
       "      <td>NaN</td>\n",
       "      <td>...</td>\n",
       "      <td>NaN</td>\n",
       "      <td>NaN</td>\n",
       "      <td>5459643.0</td>\n",
       "      <td>113.128</td>\n",
       "      <td>NaN</td>\n",
       "      <td>16.67</td>\n",
       "      <td>1.0</td>\n",
       "      <td>0.183</td>\n",
       "      <td>NaN</td>\n",
       "      <td>NaN</td>\n",
       "    </tr>\n",
       "    <tr>\n",
       "      <th>60395</th>\n",
       "      <td>15.07</td>\n",
       "      <td>9.167</td>\n",
       "      <td>287.959</td>\n",
       "      <td>Europe</td>\n",
       "      <td>08-03-2020</td>\n",
       "      <td>7.29</td>\n",
       "      <td>0.7</td>\n",
       "      <td>23.1</td>\n",
       "      <td>30155.152</td>\n",
       "      <td>NaN</td>\n",
       "      <td>...</td>\n",
       "      <td>NaN</td>\n",
       "      <td>NaN</td>\n",
       "      <td>5459643.0</td>\n",
       "      <td>113.128</td>\n",
       "      <td>NaN</td>\n",
       "      <td>16.67</td>\n",
       "      <td>3.0</td>\n",
       "      <td>0.549</td>\n",
       "      <td>NaN</td>\n",
       "      <td>NaN</td>\n",
       "    </tr>\n",
       "    <tr>\n",
       "      <th>60396</th>\n",
       "      <td>15.07</td>\n",
       "      <td>9.167</td>\n",
       "      <td>287.959</td>\n",
       "      <td>Europe</td>\n",
       "      <td>09-03-2020</td>\n",
       "      <td>7.29</td>\n",
       "      <td>0.7</td>\n",
       "      <td>23.1</td>\n",
       "      <td>30155.152</td>\n",
       "      <td>NaN</td>\n",
       "      <td>...</td>\n",
       "      <td>NaN</td>\n",
       "      <td>NaN</td>\n",
       "      <td>5459643.0</td>\n",
       "      <td>113.128</td>\n",
       "      <td>NaN</td>\n",
       "      <td>22.22</td>\n",
       "      <td>3.0</td>\n",
       "      <td>0.549</td>\n",
       "      <td>NaN</td>\n",
       "      <td>NaN</td>\n",
       "    </tr>\n",
       "    <tr>\n",
       "      <th>60397</th>\n",
       "      <td>15.07</td>\n",
       "      <td>9.167</td>\n",
       "      <td>287.959</td>\n",
       "      <td>Europe</td>\n",
       "      <td>10-03-2020</td>\n",
       "      <td>7.29</td>\n",
       "      <td>0.7</td>\n",
       "      <td>23.1</td>\n",
       "      <td>30155.152</td>\n",
       "      <td>NaN</td>\n",
       "      <td>...</td>\n",
       "      <td>NaN</td>\n",
       "      <td>NaN</td>\n",
       "      <td>5459643.0</td>\n",
       "      <td>113.128</td>\n",
       "      <td>NaN</td>\n",
       "      <td>33.33</td>\n",
       "      <td>7.0</td>\n",
       "      <td>1.282</td>\n",
       "      <td>NaN</td>\n",
       "      <td>NaN</td>\n",
       "    </tr>\n",
       "  </tbody>\n",
       "</table>\n",
       "<p>5 rows × 33 columns</p>\n",
       "</div>"
      ],
      "text/plain": [
       "       aged_65_older  aged_70_older  cardiovasc_death_rate continent  \\\n",
       "60393          15.07          9.167                287.959    Europe   \n",
       "60394          15.07          9.167                287.959    Europe   \n",
       "60395          15.07          9.167                287.959    Europe   \n",
       "60396          15.07          9.167                287.959    Europe   \n",
       "60397          15.07          9.167                287.959    Europe   \n",
       "\n",
       "             date  diabetes_prevalence  extreme_poverty  female_smokers  \\\n",
       "60393  06-03-2020                 7.29              0.7            23.1   \n",
       "60394  07-03-2020                 7.29              0.7            23.1   \n",
       "60395  08-03-2020                 7.29              0.7            23.1   \n",
       "60396  09-03-2020                 7.29              0.7            23.1   \n",
       "60397  10-03-2020                 7.29              0.7            23.1   \n",
       "\n",
       "       gdp_per_capita  handwashing_facilities  ...  new_deaths_smoothed  \\\n",
       "60393       30155.152                     NaN  ...                  NaN   \n",
       "60394       30155.152                     NaN  ...                  NaN   \n",
       "60395       30155.152                     NaN  ...                  NaN   \n",
       "60396       30155.152                     NaN  ...                  NaN   \n",
       "60397       30155.152                     NaN  ...                  NaN   \n",
       "\n",
       "       new_deaths_smoothed_per_million population  population_density  \\\n",
       "60393                              NaN  5459643.0             113.128   \n",
       "60394                              NaN  5459643.0             113.128   \n",
       "60395                              NaN  5459643.0             113.128   \n",
       "60396                              NaN  5459643.0             113.128   \n",
       "60397                              NaN  5459643.0             113.128   \n",
       "\n",
       "      reproduction_rate  stringency_index  total_cases  \\\n",
       "60393               NaN             16.67          1.0   \n",
       "60394               NaN             16.67          1.0   \n",
       "60395               NaN             16.67          3.0   \n",
       "60396               NaN             22.22          3.0   \n",
       "60397               NaN             33.33          7.0   \n",
       "\n",
       "       total_cases_per_million  total_deaths  total_deaths_per_million  \n",
       "60393                    0.183           NaN                       NaN  \n",
       "60394                    0.183           NaN                       NaN  \n",
       "60395                    0.549           NaN                       NaN  \n",
       "60396                    0.549           NaN                       NaN  \n",
       "60397                    1.282           NaN                       NaN  \n",
       "\n",
       "[5 rows x 33 columns]"
      ]
     },
     "execution_count": 17,
     "metadata": {},
     "output_type": "execute_result"
    }
   ],
   "source": [
    "Slovakia_case.head()"
   ]
  },
  {
   "cell_type": "code",
   "execution_count": 18,
   "id": "higher-index",
   "metadata": {},
   "outputs": [
    {
     "data": {
      "text/plain": [
       "aged_65_older                        0\n",
       "aged_70_older                        0\n",
       "cardiovasc_death_rate                0\n",
       "continent                            0\n",
       "date                                 0\n",
       "diabetes_prevalence                  0\n",
       "extreme_poverty                      0\n",
       "female_smokers                       0\n",
       "gdp_per_capita                       0\n",
       "handwashing_facilities             374\n",
       "hospital_beds_per_thousand           0\n",
       "human_development_index              0\n",
       "iso_code                             0\n",
       "life_expectancy                      0\n",
       "location                             0\n",
       "male_smokers                         0\n",
       "median_age                           0\n",
       "new_cases                            0\n",
       "new_cases_per_million                0\n",
       "new_cases_smoothed                   5\n",
       "new_cases_smoothed_per_million       5\n",
       "new_deaths                          26\n",
       "new_deaths_per_million              26\n",
       "new_deaths_smoothed                  5\n",
       "new_deaths_smoothed_per_million      5\n",
       "population                           0\n",
       "population_density                   0\n",
       "reproduction_rate                   14\n",
       "stringency_index                     7\n",
       "total_cases                          0\n",
       "total_cases_per_million              0\n",
       "total_deaths                        26\n",
       "total_deaths_per_million            26\n",
       "dtype: int64"
      ]
     },
     "execution_count": 18,
     "metadata": {},
     "output_type": "execute_result"
    }
   ],
   "source": [
    "Slovakia_case.isnull().sum()#finding the sum of null values in slovakia data"
   ]
  },
  {
   "cell_type": "code",
   "execution_count": 19,
   "id": "heated-edward",
   "metadata": {},
   "outputs": [
    {
     "name": "stderr",
     "output_type": "stream",
     "text": [
      "<ipython-input-19-4469f81b3528>:1: SettingWithCopyWarning: \n",
      "A value is trying to be set on a copy of a slice from a DataFrame.\n",
      "Try using .loc[row_indexer,col_indexer] = value instead\n",
      "\n",
      "See the caveats in the documentation: https://pandas.pydata.org/pandas-docs/stable/user_guide/indexing.html#returning-a-view-versus-a-copy\n",
      "  Slovakia_case['handwashing_facilities'] = Slovakia_case['handwashing_facilities'].fillna(0)\n",
      "<ipython-input-19-4469f81b3528>:2: SettingWithCopyWarning: \n",
      "A value is trying to be set on a copy of a slice from a DataFrame.\n",
      "Try using .loc[row_indexer,col_indexer] = value instead\n",
      "\n",
      "See the caveats in the documentation: https://pandas.pydata.org/pandas-docs/stable/user_guide/indexing.html#returning-a-view-versus-a-copy\n",
      "  Slovakia_case['new_deaths'] = Slovakia_case['new_deaths'].fillna(Slovakia_case['new_deaths'].median())\n",
      "<ipython-input-19-4469f81b3528>:3: SettingWithCopyWarning: \n",
      "A value is trying to be set on a copy of a slice from a DataFrame.\n",
      "Try using .loc[row_indexer,col_indexer] = value instead\n",
      "\n",
      "See the caveats in the documentation: https://pandas.pydata.org/pandas-docs/stable/user_guide/indexing.html#returning-a-view-versus-a-copy\n",
      "  Slovakia_case['new_cases_smoothed'] = Slovakia_case['new_cases_smoothed'].fillna(Slovakia_case['new_cases_smoothed'].median())\n",
      "<ipython-input-19-4469f81b3528>:4: SettingWithCopyWarning: \n",
      "A value is trying to be set on a copy of a slice from a DataFrame.\n",
      "Try using .loc[row_indexer,col_indexer] = value instead\n",
      "\n",
      "See the caveats in the documentation: https://pandas.pydata.org/pandas-docs/stable/user_guide/indexing.html#returning-a-view-versus-a-copy\n",
      "  Slovakia_case['new_cases_smoothed_per_million'] = Slovakia_case['new_cases_smoothed_per_million'].fillna(Slovakia_case['new_cases_smoothed_per_million'].median())\n",
      "<ipython-input-19-4469f81b3528>:5: SettingWithCopyWarning: \n",
      "A value is trying to be set on a copy of a slice from a DataFrame.\n",
      "Try using .loc[row_indexer,col_indexer] = value instead\n",
      "\n",
      "See the caveats in the documentation: https://pandas.pydata.org/pandas-docs/stable/user_guide/indexing.html#returning-a-view-versus-a-copy\n",
      "  Slovakia_case['new_deaths_per_million'] = Slovakia_case['new_deaths_per_million'].fillna(Slovakia_case['new_deaths_per_million'].median())\n",
      "<ipython-input-19-4469f81b3528>:6: SettingWithCopyWarning: \n",
      "A value is trying to be set on a copy of a slice from a DataFrame.\n",
      "Try using .loc[row_indexer,col_indexer] = value instead\n",
      "\n",
      "See the caveats in the documentation: https://pandas.pydata.org/pandas-docs/stable/user_guide/indexing.html#returning-a-view-versus-a-copy\n",
      "  Slovakia_case['reproduction_rate'] = Slovakia_case['reproduction_rate'].fillna(Slovakia_case['reproduction_rate'].median())\n",
      "<ipython-input-19-4469f81b3528>:7: SettingWithCopyWarning: \n",
      "A value is trying to be set on a copy of a slice from a DataFrame.\n",
      "Try using .loc[row_indexer,col_indexer] = value instead\n",
      "\n",
      "See the caveats in the documentation: https://pandas.pydata.org/pandas-docs/stable/user_guide/indexing.html#returning-a-view-versus-a-copy\n",
      "  Slovakia_case['stringency_index'] = Slovakia_case['stringency_index'].fillna(Slovakia_case['stringency_index'].median())\n",
      "<ipython-input-19-4469f81b3528>:8: SettingWithCopyWarning: \n",
      "A value is trying to be set on a copy of a slice from a DataFrame.\n",
      "Try using .loc[row_indexer,col_indexer] = value instead\n",
      "\n",
      "See the caveats in the documentation: https://pandas.pydata.org/pandas-docs/stable/user_guide/indexing.html#returning-a-view-versus-a-copy\n",
      "  Slovakia_case['new_deaths_smoothed'] = Slovakia_case['new_deaths_smoothed'].fillna(Slovakia_case['new_deaths_smoothed'].median())\n",
      "<ipython-input-19-4469f81b3528>:9: SettingWithCopyWarning: \n",
      "A value is trying to be set on a copy of a slice from a DataFrame.\n",
      "Try using .loc[row_indexer,col_indexer] = value instead\n",
      "\n",
      "See the caveats in the documentation: https://pandas.pydata.org/pandas-docs/stable/user_guide/indexing.html#returning-a-view-versus-a-copy\n",
      "  Slovakia_case['new_deaths_smoothed_per_million'] = Slovakia_case['new_deaths_smoothed_per_million'].fillna(Slovakia_case['new_deaths_smoothed_per_million'].median())\n",
      "<ipython-input-19-4469f81b3528>:10: SettingWithCopyWarning: \n",
      "A value is trying to be set on a copy of a slice from a DataFrame.\n",
      "Try using .loc[row_indexer,col_indexer] = value instead\n",
      "\n",
      "See the caveats in the documentation: https://pandas.pydata.org/pandas-docs/stable/user_guide/indexing.html#returning-a-view-versus-a-copy\n",
      "  Slovakia_case['total_deaths'] = Slovakia_case['total_deaths'].fillna(Slovakia_case['total_deaths'].median())\n",
      "<ipython-input-19-4469f81b3528>:11: SettingWithCopyWarning: \n",
      "A value is trying to be set on a copy of a slice from a DataFrame.\n",
      "Try using .loc[row_indexer,col_indexer] = value instead\n",
      "\n",
      "See the caveats in the documentation: https://pandas.pydata.org/pandas-docs/stable/user_guide/indexing.html#returning-a-view-versus-a-copy\n",
      "  Slovakia_case['total_deaths_per_million'] = Slovakia_case['total_deaths_per_million'].fillna(Slovakia_case['total_deaths_per_million'].median())\n"
     ]
    }
   ],
   "source": [
    "Slovakia_case['handwashing_facilities'] = Slovakia_case['handwashing_facilities'].fillna(0)\n",
    "Slovakia_case['new_deaths'] = Slovakia_case['new_deaths'].fillna(Slovakia_case['new_deaths'].median())\n",
    "Slovakia_case['new_cases_smoothed'] = Slovakia_case['new_cases_smoothed'].fillna(Slovakia_case['new_cases_smoothed'].median())\n",
    "Slovakia_case['new_cases_smoothed_per_million'] = Slovakia_case['new_cases_smoothed_per_million'].fillna(Slovakia_case['new_cases_smoothed_per_million'].median())\n",
    "Slovakia_case['new_deaths_per_million'] = Slovakia_case['new_deaths_per_million'].fillna(Slovakia_case['new_deaths_per_million'].median())\n",
    "Slovakia_case['reproduction_rate'] = Slovakia_case['reproduction_rate'].fillna(Slovakia_case['reproduction_rate'].median())\n",
    "Slovakia_case['stringency_index'] = Slovakia_case['stringency_index'].fillna(Slovakia_case['stringency_index'].median())\n",
    "Slovakia_case['new_deaths_smoothed'] = Slovakia_case['new_deaths_smoothed'].fillna(Slovakia_case['new_deaths_smoothed'].median())\n",
    "Slovakia_case['new_deaths_smoothed_per_million'] = Slovakia_case['new_deaths_smoothed_per_million'].fillna(Slovakia_case['new_deaths_smoothed_per_million'].median())\n",
    "Slovakia_case['total_deaths'] = Slovakia_case['total_deaths'].fillna(Slovakia_case['total_deaths'].median())\n",
    "Slovakia_case['total_deaths_per_million'] = Slovakia_case['total_deaths_per_million'].fillna(Slovakia_case['total_deaths_per_million'].median())\n",
    "#replacing the null values by entering 0 value for hand wash facilities column\n",
    "#replacing the null values by median for the remaining null value columns"
   ]
  },
  {
   "cell_type": "code",
   "execution_count": 20,
   "id": "egyptian-economy",
   "metadata": {},
   "outputs": [
    {
     "data": {
      "text/plain": [
       "aged_65_older                      0\n",
       "aged_70_older                      0\n",
       "cardiovasc_death_rate              0\n",
       "continent                          0\n",
       "date                               0\n",
       "diabetes_prevalence                0\n",
       "extreme_poverty                    0\n",
       "female_smokers                     0\n",
       "gdp_per_capita                     0\n",
       "handwashing_facilities             0\n",
       "hospital_beds_per_thousand         0\n",
       "human_development_index            0\n",
       "iso_code                           0\n",
       "life_expectancy                    0\n",
       "location                           0\n",
       "male_smokers                       0\n",
       "median_age                         0\n",
       "new_cases                          0\n",
       "new_cases_per_million              0\n",
       "new_cases_smoothed                 0\n",
       "new_cases_smoothed_per_million     0\n",
       "new_deaths                         0\n",
       "new_deaths_per_million             0\n",
       "new_deaths_smoothed                0\n",
       "new_deaths_smoothed_per_million    0\n",
       "population                         0\n",
       "population_density                 0\n",
       "reproduction_rate                  0\n",
       "stringency_index                   0\n",
       "total_cases                        0\n",
       "total_cases_per_million            0\n",
       "total_deaths                       0\n",
       "total_deaths_per_million           0\n",
       "dtype: int64"
      ]
     },
     "execution_count": 20,
     "metadata": {},
     "output_type": "execute_result"
    }
   ],
   "source": [
    "Slovakia_case.isnull().sum()#here we can see there are no values present  in each column"
   ]
  },
  {
   "cell_type": "code",
   "execution_count": 21,
   "id": "premier-sequence",
   "metadata": {},
   "outputs": [
    {
     "name": "stdout",
     "output_type": "stream",
     "text": [
      "Total Number of cases recovered:        aged_65_older  aged_70_older  cardiovasc_death_rate continent  \\\n",
      "60393          15.07          9.167                287.959    Europe   \n",
      "60394          15.07          9.167                287.959    Europe   \n",
      "60395          15.07          9.167                287.959    Europe   \n",
      "60396          15.07          9.167                287.959    Europe   \n",
      "60397          15.07          9.167                287.959    Europe   \n",
      "...              ...            ...                    ...       ...   \n",
      "60762          15.07          9.167                287.959    Europe   \n",
      "60763          15.07          9.167                287.959    Europe   \n",
      "60764          15.07          9.167                287.959    Europe   \n",
      "60765          15.07          9.167                287.959    Europe   \n",
      "60766          15.07          9.167                287.959    Europe   \n",
      "\n",
      "             date  diabetes_prevalence  extreme_poverty  female_smokers  \\\n",
      "60393  06-03-2020                 7.29              0.7            23.1   \n",
      "60394  07-03-2020                 7.29              0.7            23.1   \n",
      "60395  08-03-2020                 7.29              0.7            23.1   \n",
      "60396  09-03-2020                 7.29              0.7            23.1   \n",
      "60397  10-03-2020                 7.29              0.7            23.1   \n",
      "...           ...                  ...              ...             ...   \n",
      "60762  10-03-2021                 7.29              0.7            23.1   \n",
      "60763  11-03-2021                 7.29              0.7            23.1   \n",
      "60764  12-03-2021                 7.29              0.7            23.1   \n",
      "60765  13-03-2021                 7.29              0.7            23.1   \n",
      "60766  14-03-2021                 7.29              0.7            23.1   \n",
      "\n",
      "       gdp_per_capita  handwashing_facilities  ...  \\\n",
      "60393       30155.152                     0.0  ...   \n",
      "60394       30155.152                     0.0  ...   \n",
      "60395       30155.152                     0.0  ...   \n",
      "60396       30155.152                     0.0  ...   \n",
      "60397       30155.152                     0.0  ...   \n",
      "...               ...                     ...  ...   \n",
      "60762       30155.152                     0.0  ...   \n",
      "60763       30155.152                     0.0  ...   \n",
      "60764       30155.152                     0.0  ...   \n",
      "60765       30155.152                     0.0  ...   \n",
      "60766       30155.152                     0.0  ...   \n",
      "\n",
      "       new_deaths_smoothed_per_million  population population_density  \\\n",
      "60393                            0.131   5459643.0            113.128   \n",
      "60394                            0.131   5459643.0            113.128   \n",
      "60395                            0.131   5459643.0            113.128   \n",
      "60396                            0.131   5459643.0            113.128   \n",
      "60397                            0.131   5459643.0            113.128   \n",
      "...                                ...         ...                ...   \n",
      "60762                           17.191   5459643.0            113.128   \n",
      "60763                           17.898   5459643.0            113.128   \n",
      "60764                           17.819   5459643.0            113.128   \n",
      "60765                           18.342   5459643.0            113.128   \n",
      "60766                           18.107   5459643.0            113.128   \n",
      "\n",
      "       reproduction_rate stringency_index  total_cases  \\\n",
      "60393               1.12            16.67          1.0   \n",
      "60394               1.12            16.67          1.0   \n",
      "60395               1.12            16.67          3.0   \n",
      "60396               1.12            22.22          3.0   \n",
      "60397               1.12            33.33          7.0   \n",
      "...                  ...              ...          ...   \n",
      "60762               1.03            69.44     329593.0   \n",
      "60763               1.03            69.44     331571.0   \n",
      "60764               1.03            69.44     333872.0   \n",
      "60765               1.03            69.44     336235.0   \n",
      "60766               1.12            69.44     337503.0   \n",
      "\n",
      "       total_cases_per_million  total_deaths  total_deaths_per_million  \\\n",
      "60393                    0.183          39.5                    7.2345   \n",
      "60394                    0.183          39.5                    7.2345   \n",
      "60395                    0.549          39.5                    7.2345   \n",
      "60396                    0.549          39.5                    7.2345   \n",
      "60397                    1.282          39.5                    7.2345   \n",
      "...                        ...           ...                       ...   \n",
      "60762                60368.966        8146.0                 1492.0390   \n",
      "60763                60731.260        8244.0                 1509.9890   \n",
      "60764                61152.716        8346.0                 1528.6710   \n",
      "60765                61585.529        8440.0                 1545.8890   \n",
      "60766                61817.778        8528.0                 1562.0070   \n",
      "\n",
      "       recovered_cases  \n",
      "60393            -39.5  \n",
      "60394            -38.5  \n",
      "60395            -38.5  \n",
      "60396            -36.5  \n",
      "60397            -36.5  \n",
      "...                ...  \n",
      "60762         317847.0  \n",
      "60763         321349.0  \n",
      "60764         323225.0  \n",
      "60765         325432.0  \n",
      "60766         327707.0  \n",
      "\n",
      "[374 rows x 34 columns]\n"
     ]
    },
    {
     "name": "stderr",
     "output_type": "stream",
     "text": [
      "<ipython-input-21-9c2c55ca73f0>:1: SettingWithCopyWarning: \n",
      "A value is trying to be set on a copy of a slice from a DataFrame.\n",
      "Try using .loc[row_indexer,col_indexer] = value instead\n",
      "\n",
      "See the caveats in the documentation: https://pandas.pydata.org/pandas-docs/stable/user_guide/indexing.html#returning-a-view-versus-a-copy\n",
      "  Slovakia_case['recovered_cases'] = Slovakia_case['total_cases']-Slovakia_case['total_deaths'] - Slovakia_case['new_cases']\n"
     ]
    }
   ],
   "source": [
    "Slovakia_case['recovered_cases'] = Slovakia_case['total_cases']-Slovakia_case['total_deaths'] - Slovakia_case['new_cases']\n",
    "total_recovered=Slovakia_case[\"recovered_cases\"].sum(axis = 0, skipna = True)\n",
    "print(\"Total Number of cases recovered:\", Slovakia_case)\n",
    "#creating a dependent variable based on independent variable and printing the dependent variable"
   ]
  },
  {
   "cell_type": "code",
   "execution_count": 22,
   "id": "external-motel",
   "metadata": {},
   "outputs": [
    {
     "name": "stderr",
     "output_type": "stream",
     "text": [
      "<ipython-input-22-38c90098ed49>:1: SettingWithCopyWarning: \n",
      "A value is trying to be set on a copy of a slice from a DataFrame.\n",
      "Try using .loc[row_indexer,col_indexer] = value instead\n",
      "\n",
      "See the caveats in the documentation: https://pandas.pydata.org/pandas-docs/stable/user_guide/indexing.html#returning-a-view-versus-a-copy\n",
      "  Slovakia_case['active_case'] = Slovakia_case['total_cases'] - Slovakia_case['recovered_cases']\n"
     ]
    }
   ],
   "source": [
    "Slovakia_case['active_case'] = Slovakia_case['total_cases'] - Slovakia_case['recovered_cases']\n",
    "#creating a dependent variable based on independent variables"
   ]
  },
  {
   "cell_type": "code",
   "execution_count": 23,
   "id": "decreased-festival",
   "metadata": {},
   "outputs": [
    {
     "name": "stdout",
     "output_type": "stream",
     "text": [
      "Total Number of active_case: 787677.0\n"
     ]
    }
   ],
   "source": [
    "active_cases=Slovakia_case[\"active_case\"].sum(axis = 0, skipna = True)\n",
    "print(\"Total Number of active_case:\", active_cases)\n",
    "#printing the dependent variable"
   ]
  },
  {
   "cell_type": "code",
   "execution_count": 24,
   "id": "controlled-programming",
   "metadata": {},
   "outputs": [
    {
     "name": "stderr",
     "output_type": "stream",
     "text": [
      "<ipython-input-24-dcb4bcae1be5>:1: SettingWithCopyWarning: \n",
      "A value is trying to be set on a copy of a slice from a DataFrame.\n",
      "Try using .loc[row_indexer,col_indexer] = value instead\n",
      "\n",
      "See the caveats in the documentation: https://pandas.pydata.org/pandas-docs/stable/user_guide/indexing.html#returning-a-view-versus-a-copy\n",
      "  Slovakia_case['cumulated_deaths']=Slovakia_case['total_deaths']-Slovakia_case['new_deaths']\n"
     ]
    }
   ],
   "source": [
    "Slovakia_case['cumulated_deaths']=Slovakia_case['total_deaths']-Slovakia_case['new_deaths']\n",
    "#creating a dependent variable based on independent variables"
   ]
  },
  {
   "cell_type": "code",
   "execution_count": 25,
   "id": "comic-advance",
   "metadata": {},
   "outputs": [
    {
     "name": "stdout",
     "output_type": "stream",
     "text": [
      "Total Number of cumulated deaths: 441633.0\n"
     ]
    }
   ],
   "source": [
    "cumulated_death=Slovakia_case[\"cumulated_deaths\"].sum(axis = 0, skipna = True)\n",
    "print(\"Total Number of cumulated deaths:\", cumulated_death)\n",
    "#printing the dependent variable"
   ]
  },
  {
   "cell_type": "code",
   "execution_count": 26,
   "id": "alike-arizona",
   "metadata": {},
   "outputs": [
    {
     "name": "stdout",
     "output_type": "stream",
     "text": [
      "Total Number of available bed at hospital 60393    5.82\n",
      "60394    5.82\n",
      "60395    5.82\n",
      "60396    5.82\n",
      "60397    5.82\n",
      "         ... \n",
      "60762    5.82\n",
      "60763    5.82\n",
      "60764    5.82\n",
      "60765    5.82\n",
      "60766    5.82\n",
      "Name: total_beds_available, Length: 374, dtype: float64 .\n"
     ]
    },
    {
     "name": "stderr",
     "output_type": "stream",
     "text": [
      "<ipython-input-26-e467b1854409>:1: SettingWithCopyWarning: \n",
      "A value is trying to be set on a copy of a slice from a DataFrame.\n",
      "Try using .loc[row_indexer,col_indexer] = value instead\n",
      "\n",
      "See the caveats in the documentation: https://pandas.pydata.org/pandas-docs/stable/user_guide/indexing.html#returning-a-view-versus-a-copy\n",
      "  Slovakia_case['total_beds_available'] = Slovakia_case['hospital_beds_per_thousand']\n"
     ]
    }
   ],
   "source": [
    "Slovakia_case['total_beds_available'] = Slovakia_case['hospital_beds_per_thousand']\n",
    "hospital_beds=Slovakia_case[\"total_beds_available\"]\n",
    "\n",
    "print(\"Total Number of available bed at hospital\", hospital_beds,\".\")"
   ]
  },
  {
   "cell_type": "code",
   "execution_count": 27,
   "id": "placed-dress",
   "metadata": {},
   "outputs": [
    {
     "data": {
      "text/plain": [
       "<seaborn.axisgrid.FacetGrid at 0x1d9a1763910>"
      ]
     },
     "execution_count": 27,
     "metadata": {},
     "output_type": "execute_result"
    },
    {
     "data": {
      "image/png": "[encoded data removed]",
      "text/plain": [
       "<Figure size 360x360 with 1 Axes>"
      ]
     },
     "metadata": {
      "needs_background": "light"
     },
     "output_type": "display_data"
    }
   ],
   "source": [
    "sns.lmplot(x='date',y='active_case',fit_reg=False,data=Slovakia_case)\n",
    "#active cases per day "
   ]
  },
  {
   "cell_type": "code",
   "execution_count": 28,
   "id": "preliminary-nancy",
   "metadata": {},
   "outputs": [
    {
     "data": {
      "image/png": "[encoded data removed]",
      "text/plain": [
       "<Figure size 1080x720 with 1 Axes>"
      ]
     },
     "metadata": {},
     "output_type": "display_data"
    }
   ],
   "source": [
    "#recovered cases  per day\n",
    "sns.set(rc={'figure.figsize':(15,10)})\n",
    "sns.lineplot(x='date',y='recovered_cases',data=Slovakia_case)\n",
    "plt.show()"
   ]
  },
  {
   "cell_type": "code",
   "execution_count": 29,
   "id": "dress-analyst",
   "metadata": {},
   "outputs": [
    {
     "data": {
      "image/png": "[encoded data removed]",
      "text/plain": [
       "<Figure size 1080x720 with 1 Axes>"
      ]
     },
     "metadata": {},
     "output_type": "display_data"
    }
   ],
   "source": [
    "sns.set(rc={'figure.figsize':(15,10)})\n",
    "sns.lineplot(x='date',y='cumulated_deaths',data=Slovakia_case)\n",
    "plt.show()\n",
    "#cumulated deaths per day"
   ]
  },
  {
   "cell_type": "code",
   "execution_count": 30,
   "id": "bound-south",
   "metadata": {},
   "outputs": [
    {
     "data": {
      "image/png": "[encoded data removed]",
      "text/plain": [
       "<Figure size 1080x720 with 1 Axes>"
      ]
     },
     "metadata": {},
     "output_type": "display_data"
    }
   ],
   "source": [
    "sns.set(rc={'figure.figsize':(15,10)})\n",
    "sns.lineplot(x='date',y='total_beds_available',data=Slovakia_case)\n",
    "plt.show()\n",
    "#total  hospital beds available  per day"
   ]
  },
  {
   "cell_type": "code",
   "execution_count": 31,
   "id": "coral-unknown",
   "metadata": {},
   "outputs": [
    {
     "data": {
      "text/html": [
       "<div>\n",
       "<style scoped>\n",
       "    .dataframe tbody tr th:only-of-type {\n",
       "        vertical-align: middle;\n",
       "    }\n",
       "\n",
       "    .dataframe tbody tr th {\n",
       "        vertical-align: top;\n",
       "    }\n",
       "\n",
       "    .dataframe thead th {\n",
       "        text-align: right;\n",
       "    }\n",
       "</style>\n",
       "<table border=\"1\" class=\"dataframe\">\n",
       "  <thead>\n",
       "    <tr style=\"text-align: right;\">\n",
       "      <th></th>\n",
       "      <th>aged_65_older</th>\n",
       "      <th>aged_70_older</th>\n",
       "      <th>cardiovasc_death_rate</th>\n",
       "      <th>diabetes_prevalence</th>\n",
       "      <th>extreme_poverty</th>\n",
       "      <th>female_smokers</th>\n",
       "      <th>gdp_per_capita</th>\n",
       "      <th>handwashing_facilities</th>\n",
       "      <th>hospital_beds_per_thousand</th>\n",
       "      <th>human_development_index</th>\n",
       "      <th>...</th>\n",
       "      <th>reproduction_rate</th>\n",
       "      <th>stringency_index</th>\n",
       "      <th>total_cases</th>\n",
       "      <th>total_cases_per_million</th>\n",
       "      <th>total_deaths</th>\n",
       "      <th>total_deaths_per_million</th>\n",
       "      <th>recovered_cases</th>\n",
       "      <th>active_case</th>\n",
       "      <th>cumulated_deaths</th>\n",
       "      <th>total_beds_available</th>\n",
       "    </tr>\n",
       "  </thead>\n",
       "  <tbody>\n",
       "    <tr>\n",
       "      <th>count</th>\n",
       "      <td>3.740000e+02</td>\n",
       "      <td>3.740000e+02</td>\n",
       "      <td>3.740000e+02</td>\n",
       "      <td>374.00</td>\n",
       "      <td>3.740000e+02</td>\n",
       "      <td>3.740000e+02</td>\n",
       "      <td>3.740000e+02</td>\n",
       "      <td>374.0</td>\n",
       "      <td>3.740000e+02</td>\n",
       "      <td>374.00</td>\n",
       "      <td>...</td>\n",
       "      <td>374.000000</td>\n",
       "      <td>374.000000</td>\n",
       "      <td>374.000000</td>\n",
       "      <td>374.000000</td>\n",
       "      <td>374.000000</td>\n",
       "      <td>374.000000</td>\n",
       "      <td>374.000000</td>\n",
       "      <td>374.000000</td>\n",
       "      <td>374.000000</td>\n",
       "      <td>3.740000e+02</td>\n",
       "    </tr>\n",
       "    <tr>\n",
       "      <th>mean</th>\n",
       "      <td>1.507000e+01</td>\n",
       "      <td>9.167000e+00</td>\n",
       "      <td>2.879590e+02</td>\n",
       "      <td>7.29</td>\n",
       "      <td>7.000000e-01</td>\n",
       "      <td>2.310000e+01</td>\n",
       "      <td>3.015515e+04</td>\n",
       "      <td>0.0</td>\n",
       "      <td>5.820000e+00</td>\n",
       "      <td>0.86</td>\n",
       "      <td>...</td>\n",
       "      <td>1.130000</td>\n",
       "      <td>57.812086</td>\n",
       "      <td>73280.117647</td>\n",
       "      <td>13422.144572</td>\n",
       "      <td>1203.673797</td>\n",
       "      <td>220.467545</td>\n",
       "      <td>71174.029412</td>\n",
       "      <td>2106.088235</td>\n",
       "      <td>1180.836898</td>\n",
       "      <td>5.820000e+00</td>\n",
       "    </tr>\n",
       "    <tr>\n",
       "      <th>std</th>\n",
       "      <td>3.557473e-15</td>\n",
       "      <td>1.778736e-15</td>\n",
       "      <td>1.138391e-13</td>\n",
       "      <td>0.00</td>\n",
       "      <td>2.223421e-16</td>\n",
       "      <td>7.114946e-15</td>\n",
       "      <td>3.642852e-12</td>\n",
       "      <td>0.0</td>\n",
       "      <td>8.893682e-16</td>\n",
       "      <td>0.00</td>\n",
       "      <td>...</td>\n",
       "      <td>0.204025</td>\n",
       "      <td>17.679602</td>\n",
       "      <td>103901.093482</td>\n",
       "      <td>19030.748612</td>\n",
       "      <td>2186.822792</td>\n",
       "      <td>400.543179</td>\n",
       "      <td>100973.939739</td>\n",
       "      <td>3014.198090</td>\n",
       "      <td>2154.486954</td>\n",
       "      <td>8.893682e-16</td>\n",
       "    </tr>\n",
       "    <tr>\n",
       "      <th>min</th>\n",
       "      <td>1.507000e+01</td>\n",
       "      <td>9.167000e+00</td>\n",
       "      <td>2.879590e+02</td>\n",
       "      <td>7.29</td>\n",
       "      <td>7.000000e-01</td>\n",
       "      <td>2.310000e+01</td>\n",
       "      <td>3.015515e+04</td>\n",
       "      <td>0.0</td>\n",
       "      <td>5.820000e+00</td>\n",
       "      <td>0.86</td>\n",
       "      <td>...</td>\n",
       "      <td>0.670000</td>\n",
       "      <td>16.670000</td>\n",
       "      <td>1.000000</td>\n",
       "      <td>0.183000</td>\n",
       "      <td>1.000000</td>\n",
       "      <td>0.183000</td>\n",
       "      <td>-39.500000</td>\n",
       "      <td>15.000000</td>\n",
       "      <td>0.000000</td>\n",
       "      <td>5.820000e+00</td>\n",
       "    </tr>\n",
       "    <tr>\n",
       "      <th>25%</th>\n",
       "      <td>1.507000e+01</td>\n",
       "      <td>9.167000e+00</td>\n",
       "      <td>2.879590e+02</td>\n",
       "      <td>7.29</td>\n",
       "      <td>7.000000e-01</td>\n",
       "      <td>2.310000e+01</td>\n",
       "      <td>3.015515e+04</td>\n",
       "      <td>0.0</td>\n",
       "      <td>5.820000e+00</td>\n",
       "      <td>0.86</td>\n",
       "      <td>...</td>\n",
       "      <td>1.020000</td>\n",
       "      <td>37.960000</td>\n",
       "      <td>1528.500000</td>\n",
       "      <td>279.963500</td>\n",
       "      <td>28.000000</td>\n",
       "      <td>5.129000</td>\n",
       "      <td>1500.000000</td>\n",
       "      <td>41.625000</td>\n",
       "      <td>28.000000</td>\n",
       "      <td>5.820000e+00</td>\n",
       "    </tr>\n",
       "    <tr>\n",
       "      <th>50%</th>\n",
       "      <td>1.507000e+01</td>\n",
       "      <td>9.167000e+00</td>\n",
       "      <td>2.879590e+02</td>\n",
       "      <td>7.29</td>\n",
       "      <td>7.000000e-01</td>\n",
       "      <td>2.310000e+01</td>\n",
       "      <td>3.015515e+04</td>\n",
       "      <td>0.0</td>\n",
       "      <td>5.820000e+00</td>\n",
       "      <td>0.86</td>\n",
       "      <td>...</td>\n",
       "      <td>1.120000</td>\n",
       "      <td>69.440000</td>\n",
       "      <td>4807.500000</td>\n",
       "      <td>880.552500</td>\n",
       "      <td>39.500000</td>\n",
       "      <td>7.234500</td>\n",
       "      <td>4644.500000</td>\n",
       "      <td>151.500000</td>\n",
       "      <td>39.000000</td>\n",
       "      <td>5.820000e+00</td>\n",
       "    </tr>\n",
       "    <tr>\n",
       "      <th>75%</th>\n",
       "      <td>1.507000e+01</td>\n",
       "      <td>9.167000e+00</td>\n",
       "      <td>2.879590e+02</td>\n",
       "      <td>7.29</td>\n",
       "      <td>7.000000e-01</td>\n",
       "      <td>2.310000e+01</td>\n",
       "      <td>3.015515e+04</td>\n",
       "      <td>0.0</td>\n",
       "      <td>5.820000e+00</td>\n",
       "      <td>0.86</td>\n",
       "      <td>...</td>\n",
       "      <td>1.310000</td>\n",
       "      <td>73.150000</td>\n",
       "      <td>126545.500000</td>\n",
       "      <td>23178.346750</td>\n",
       "      <td>1117.500000</td>\n",
       "      <td>204.683750</td>\n",
       "      <td>123022.250000</td>\n",
       "      <td>3153.000000</td>\n",
       "      <td>1099.000000</td>\n",
       "      <td>5.820000e+00</td>\n",
       "    </tr>\n",
       "    <tr>\n",
       "      <th>max</th>\n",
       "      <td>1.507000e+01</td>\n",
       "      <td>9.167000e+00</td>\n",
       "      <td>2.879590e+02</td>\n",
       "      <td>7.29</td>\n",
       "      <td>7.000000e-01</td>\n",
       "      <td>2.310000e+01</td>\n",
       "      <td>3.015515e+04</td>\n",
       "      <td>0.0</td>\n",
       "      <td>5.820000e+00</td>\n",
       "      <td>0.86</td>\n",
       "      <td>...</td>\n",
       "      <td>1.470000</td>\n",
       "      <td>87.040000</td>\n",
       "      <td>337503.000000</td>\n",
       "      <td>61817.778000</td>\n",
       "      <td>8528.000000</td>\n",
       "      <td>1562.007000</td>\n",
       "      <td>327707.000000</td>\n",
       "      <td>11746.000000</td>\n",
       "      <td>8440.000000</td>\n",
       "      <td>5.820000e+00</td>\n",
       "    </tr>\n",
       "  </tbody>\n",
       "</table>\n",
       "<p>8 rows × 33 columns</p>\n",
       "</div>"
      ],
      "text/plain": [
       "       aged_65_older  aged_70_older  cardiovasc_death_rate  \\\n",
       "count   3.740000e+02   3.740000e+02           3.740000e+02   \n",
       "mean    1.507000e+01   9.167000e+00           2.879590e+02   \n",
       "std     3.557473e-15   1.778736e-15           1.138391e-13   \n",
       "min     1.507000e+01   9.167000e+00           2.879590e+02   \n",
       "25%     1.507000e+01   9.167000e+00           2.879590e+02   \n",
       "50%     1.507000e+01   9.167000e+00           2.879590e+02   \n",
       "75%     1.507000e+01   9.167000e+00           2.879590e+02   \n",
       "max     1.507000e+01   9.167000e+00           2.879590e+02   \n",
       "\n",
       "       diabetes_prevalence  extreme_poverty  female_smokers  gdp_per_capita  \\\n",
       "count               374.00     3.740000e+02    3.740000e+02    3.740000e+02   \n",
       "mean                  7.29     7.000000e-01    2.310000e+01    3.015515e+04   \n",
       "std                   0.00     2.223421e-16    7.114946e-15    3.642852e-12   \n",
       "min                   7.29     7.000000e-01    2.310000e+01    3.015515e+04   \n",
       "25%                   7.29     7.000000e-01    2.310000e+01    3.015515e+04   \n",
       "50%                   7.29     7.000000e-01    2.310000e+01    3.015515e+04   \n",
       "75%                   7.29     7.000000e-01    2.310000e+01    3.015515e+04   \n",
       "max                   7.29     7.000000e-01    2.310000e+01    3.015515e+04   \n",
       "\n",
       "       handwashing_facilities  hospital_beds_per_thousand  \\\n",
       "count                   374.0                3.740000e+02   \n",
       "mean                      0.0                5.820000e+00   \n",
       "std                       0.0                8.893682e-16   \n",
       "min                       0.0                5.820000e+00   \n",
       "25%                       0.0                5.820000e+00   \n",
       "50%                       0.0                5.820000e+00   \n",
       "75%                       0.0                5.820000e+00   \n",
       "max                       0.0                5.820000e+00   \n",
       "\n",
       "       human_development_index  ...  reproduction_rate  stringency_index  \\\n",
       "count                   374.00  ...         374.000000        374.000000   \n",
       "mean                      0.86  ...           1.130000         57.812086   \n",
       "std                       0.00  ...           0.204025         17.679602   \n",
       "min                       0.86  ...           0.670000         16.670000   \n",
       "25%                       0.86  ...           1.020000         37.960000   \n",
       "50%                       0.86  ...           1.120000         69.440000   \n",
       "75%                       0.86  ...           1.310000         73.150000   \n",
       "max                       0.86  ...           1.470000         87.040000   \n",
       "\n",
       "         total_cases  total_cases_per_million  total_deaths  \\\n",
       "count     374.000000               374.000000    374.000000   \n",
       "mean    73280.117647             13422.144572   1203.673797   \n",
       "std    103901.093482             19030.748612   2186.822792   \n",
       "min         1.000000                 0.183000      1.000000   \n",
       "25%      1528.500000               279.963500     28.000000   \n",
       "50%      4807.500000               880.552500     39.500000   \n",
       "75%    126545.500000             23178.346750   1117.500000   \n",
       "max    337503.000000             61817.778000   8528.000000   \n",
       "\n",
       "       total_deaths_per_million  recovered_cases   active_case  \\\n",
       "count                374.000000       374.000000    374.000000   \n",
       "mean                 220.467545     71174.029412   2106.088235   \n",
       "std                  400.543179    100973.939739   3014.198090   \n",
       "min                    0.183000       -39.500000     15.000000   \n",
       "25%                    5.129000      1500.000000     41.625000   \n",
       "50%                    7.234500      4644.500000    151.500000   \n",
       "75%                  204.683750    123022.250000   3153.000000   \n",
       "max                 1562.007000    327707.000000  11746.000000   \n",
       "\n",
       "       cumulated_deaths  total_beds_available  \n",
       "count        374.000000          3.740000e+02  \n",
       "mean        1180.836898          5.820000e+00  \n",
       "std         2154.486954          8.893682e-16  \n",
       "min            0.000000          5.820000e+00  \n",
       "25%           28.000000          5.820000e+00  \n",
       "50%           39.000000          5.820000e+00  \n",
       "75%         1099.000000          5.820000e+00  \n",
       "max         8440.000000          5.820000e+00  \n",
       "\n",
       "[8 rows x 33 columns]"
      ]
     },
     "execution_count": 31,
     "metadata": {},
     "output_type": "execute_result"
    }
   ],
   "source": [
    "Slovakia_case.describe()#univariate analysis"
   ]
  },
  {
   "cell_type": "code",
   "execution_count": 32,
   "id": "variable-upgrade",
   "metadata": {},
   "outputs": [
    {
     "data": {
      "text/plain": [
       "Text(0, 0.5, 'Count')"
      ]
     },
     "execution_count": 32,
     "metadata": {},
     "output_type": "execute_result"
    },
    {
     "data": {
      "image/png": "[encoded data removed]",
      "text/plain": [
       "<Figure size 720x504 with 1 Axes>"
      ]
     },
     "metadata": {},
     "output_type": "display_data"
    }
   ],
   "source": [
    "plt.figure(figsize=(10,7))\n",
    "x=Slovakia_case['active_case']\n",
    "plt.hist(x,bins=20,color='blue')\n",
    "plt.title('active_case')\n",
    "plt.xlabel('active_case')\n",
    "plt.ylabel('Count')\n",
    "#univariate analysis"
   ]
  },
  {
   "cell_type": "code",
   "execution_count": 33,
   "id": "tropical-rapid",
   "metadata": {},
   "outputs": [
    {
     "data": {
      "text/plain": [
       "Text(0, 0.5, 'Count')"
      ]
     },
     "execution_count": 33,
     "metadata": {},
     "output_type": "execute_result"
    },
    {
     "data": {
      "image/png": "[encoded data removed]",
      "text/plain": [
       "<Figure size 720x504 with 1 Axes>"
      ]
     },
     "metadata": {},
     "output_type": "display_data"
    }
   ],
   "source": [
    "plt.figure(figsize=(10,7))\n",
    "x=Slovakia_case['recovered_cases']\n",
    "plt.hist(x,bins=20,color='green')\n",
    "plt.title('recovered_cases')\n",
    "plt.xlabel('recovered_cases')\n",
    "plt.ylabel('Count')\n",
    "#univariate analysis"
   ]
  },
  {
   "cell_type": "code",
   "execution_count": 34,
   "id": "quick-contrast",
   "metadata": {},
   "outputs": [
    {
     "data": {
      "text/plain": [
       "Text(0, 0.5, 'Count')"
      ]
     },
     "execution_count": 34,
     "metadata": {},
     "output_type": "execute_result"
    },
    {
     "data": {
      "image/png": "[encoded data removed]",
      "text/plain": [
       "<Figure size 720x504 with 1 Axes>"
      ]
     },
     "metadata": {},
     "output_type": "display_data"
    }
   ],
   "source": [
    "plt.figure(figsize=(10,7))\n",
    "x=Slovakia_case['cumulated_deaths']\n",
    "plt.hist(x,bins=20,color='orange')\n",
    "plt.title('cumulated_deaths')\n",
    "plt.xlabel('cumulated_deaths')\n",
    "plt.ylabel('Count')\n",
    "#univariate analysis"
   ]
  },
  {
   "cell_type": "code",
   "execution_count": 35,
   "id": "supported-equipment",
   "metadata": {},
   "outputs": [
    {
     "data": {
      "text/plain": [
       "Text(0, 0.5, 'Count')"
      ]
     },
     "execution_count": 35,
     "metadata": {},
     "output_type": "execute_result"
    },
    {
     "data": {
      "image/png": "[encoded data removed]",
      "text/plain": [
       "<Figure size 720x504 with 1 Axes>"
      ]
     },
     "metadata": {},
     "output_type": "display_data"
    }
   ],
   "source": [
    "plt.figure(figsize=(10,7))\n",
    "x=Slovakia_case['total_beds_available']\n",
    "plt.hist(x,bins=20,color='pink')\n",
    "plt.title('total_beds_available')\n",
    "plt.xlabel('total_beds_available')\n",
    "plt.ylabel('Count')\n",
    "#univariate analysis"
   ]
  },
  {
   "cell_type": "code",
   "execution_count": 36,
   "id": "entitled-agenda",
   "metadata": {},
   "outputs": [
    {
     "data": {
      "text/plain": [
       "<seaborn.axisgrid.FacetGrid at 0x1d9a3dfdc10>"
      ]
     },
     "execution_count": 36,
     "metadata": {},
     "output_type": "execute_result"
    },
    {
     "data": {
      "image/png": "[encoded data removed]",
      "text/plain": [
       "<Figure size 360x360 with 1 Axes>"
      ]
     },
     "metadata": {},
     "output_type": "display_data"
    }
   ],
   "source": [
    "sns.lmplot(x='date',y='active_case',fit_reg=False,data=Slovakia_case)\n",
    "#by using bivariate analysis we are finding the active cases per day"
   ]
  },
  {
   "cell_type": "code",
   "execution_count": 37,
   "id": "fluid-hollywood",
   "metadata": {},
   "outputs": [
    {
     "data": {
      "text/plain": [
       "<seaborn.axisgrid.FacetGrid at 0x1d9a4379c70>"
      ]
     },
     "execution_count": 37,
     "metadata": {},
     "output_type": "execute_result"
    },
    {
     "data": {
      "image/png": "[encoded data removed]",
      "text/plain": [
       "<Figure size 360x360 with 1 Axes>"
      ]
     },
     "metadata": {},
     "output_type": "display_data"
    }
   ],
   "source": [
    "sns.lmplot(x='date',y='recovered_cases',fit_reg=False,data=Slovakia_case)\n",
    "#by using bivariate analysis we are finding the recovered cases per day"
   ]
  },
  {
   "cell_type": "code",
   "execution_count": 38,
   "id": "wrapped-sociology",
   "metadata": {},
   "outputs": [
    {
     "data": {
      "text/plain": [
       "<seaborn.axisgrid.FacetGrid at 0x1d9a924a070>"
      ]
     },
     "execution_count": 38,
     "metadata": {},
     "output_type": "execute_result"
    },
    {
     "data": {
      "image/png": "[encoded data removed]",
      "text/plain": [
       "<Figure size 360x360 with 1 Axes>"
      ]
     },
     "metadata": {},
     "output_type": "display_data"
    }
   ],
   "source": [
    "sns.lmplot(x='date',y='cumulated_deaths',fit_reg=False,data=Slovakia_case)\n",
    "#by using bivariate analysis we are finding the cumulated deaths per day"
   ]
  },
  {
   "cell_type": "code",
   "execution_count": 39,
   "id": "legal-belize",
   "metadata": {},
   "outputs": [
    {
     "data": {
      "text/plain": [
       "<seaborn.axisgrid.FacetGrid at 0x1d9a92af880>"
      ]
     },
     "execution_count": 39,
     "metadata": {},
     "output_type": "execute_result"
    },
    {
     "data": {
      "image/png": "[encoded data removed]",
      "text/plain": [
       "<Figure size 360x360 with 1 Axes>"
      ]
     },
     "metadata": {},
     "output_type": "display_data"
    }
   ],
   "source": [
    "sns.lmplot(x='date',y='total_beds_available',fit_reg=False,data=Slovakia_case)\n",
    "#by using bivariate analysis we are finding the number of hospital beds available  per day\n"
   ]
  },
  {
   "cell_type": "code",
   "execution_count": 40,
   "id": "included-vertical",
   "metadata": {},
   "outputs": [
    {
     "data": {
      "text/html": [
       "<div>\n",
       "<style scoped>\n",
       "    .dataframe tbody tr th:only-of-type {\n",
       "        vertical-align: middle;\n",
       "    }\n",
       "\n",
       "    .dataframe tbody tr th {\n",
       "        vertical-align: top;\n",
       "    }\n",
       "\n",
       "    .dataframe thead th {\n",
       "        text-align: right;\n",
       "    }\n",
       "</style>\n",
       "<table border=\"1\" class=\"dataframe\">\n",
       "  <thead>\n",
       "    <tr style=\"text-align: right;\">\n",
       "      <th></th>\n",
       "      <th>active_case</th>\n",
       "      <th>recovered_cases</th>\n",
       "      <th>cumulated_deaths</th>\n",
       "      <th>total_beds_available</th>\n",
       "    </tr>\n",
       "  </thead>\n",
       "  <tbody>\n",
       "    <tr>\n",
       "      <th>active_case</th>\n",
       "      <td>1.000000</td>\n",
       "      <td>0.970272</td>\n",
       "      <td>0.945657</td>\n",
       "      <td>NaN</td>\n",
       "    </tr>\n",
       "    <tr>\n",
       "      <th>recovered_cases</th>\n",
       "      <td>0.970272</td>\n",
       "      <td>1.000000</td>\n",
       "      <td>0.952555</td>\n",
       "      <td>NaN</td>\n",
       "    </tr>\n",
       "    <tr>\n",
       "      <th>cumulated_deaths</th>\n",
       "      <td>0.945657</td>\n",
       "      <td>0.952555</td>\n",
       "      <td>1.000000</td>\n",
       "      <td>NaN</td>\n",
       "    </tr>\n",
       "    <tr>\n",
       "      <th>total_beds_available</th>\n",
       "      <td>NaN</td>\n",
       "      <td>NaN</td>\n",
       "      <td>NaN</td>\n",
       "      <td>NaN</td>\n",
       "    </tr>\n",
       "  </tbody>\n",
       "</table>\n",
       "</div>"
      ],
      "text/plain": [
       "                      active_case  recovered_cases  cumulated_deaths  \\\n",
       "active_case              1.000000         0.970272          0.945657   \n",
       "recovered_cases          0.970272         1.000000          0.952555   \n",
       "cumulated_deaths         0.945657         0.952555          1.000000   \n",
       "total_beds_available          NaN              NaN               NaN   \n",
       "\n",
       "                      total_beds_available  \n",
       "active_case                            NaN  \n",
       "recovered_cases                        NaN  \n",
       "cumulated_deaths                       NaN  \n",
       "total_beds_available                   NaN  "
      ]
     },
     "execution_count": 40,
     "metadata": {},
     "output_type": "execute_result"
    }
   ],
   "source": [
    "x_corr = Slovakia_case[['active_case', 'recovered_cases','cumulated_deaths','total_beds_available'\n",
    "       \n",
    "        ]].corr()\n",
    "x_corr\n",
    "#bivariate analysis "
   ]
  },
  {
   "cell_type": "code",
   "execution_count": 44,
   "id": "black-single",
   "metadata": {},
   "outputs": [
    {
     "data": {
      "text/plain": [
       "Text(0.5, 1.0, 'variation of deaths,active_cases, recovered cases and total_beds_available with respect each day')"
      ]
     },
     "execution_count": 44,
     "metadata": {},
     "output_type": "execute_result"
    },
    {
     "data": {
      "image/png": "[encoded data removed]",
      "text/plain": [
       "<Figure size 1080x720 with 1 Axes>"
      ]
     },
     "metadata": {},
     "output_type": "display_data"
    }
   ],
   "source": [
    "sns.lineplot(x=Slovakia_case.date,y= Slovakia_case.active_case, color=\"blue\", label=\"active_case\", linestyle=\"-\")\n",
    "sns.lineplot(x=Slovakia_case.date, y= Slovakia_case.recovered_cases ,color=\"black\", label=\"recovered_cases\", linestyle=\"-\")\n",
    "sns.lineplot(x=Slovakia_case.date, y= Slovakia_case.cumulated_deaths ,color=\"orange\", label=\"cumulated_deaths\", linestyle=\"-\")\n",
    "sns.lineplot(x=Slovakia_case.date ,y= Slovakia_case.total_beds_available, color=\"green\", label=\"total_beds_available\", linestyle=\"-\").set_title(\"variation of deaths,active_cases, recovered cases and total_beds_available with respect each day\")\n",
    "#linear regression model predicting active_case, recovered_cases,cumulated_deaths,total_beds_available per day"
   ]
  },
  {
   "cell_type": "code",
   "execution_count": null,
   "id": "chronic-tractor",
   "metadata": {},
   "outputs": [],
   "source": []
  }
 ],
 "metadata": {
  "kernelspec": {
   "display_name": "Python 3",
   "language": "python",
   "name": "python3"
  },
  "language_info": {
   "codemirror_mode": {
    "name": "ipython",
    "version": 3
   },
   "file_extension": ".py",
   "mimetype": "text/x-python",
   "name": "python",
   "nbconvert_exporter": "python",
   "pygments_lexer": "ipython3",
   "version": "3.9.2"
  }
 },
 "nbformat": 4,
 "nbformat_minor": 5
}
